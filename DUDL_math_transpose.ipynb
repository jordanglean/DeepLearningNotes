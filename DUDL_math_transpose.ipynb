{
  "nbformat": 4,
  "nbformat_minor": 0,
  "metadata": {
    "colab": {
      "provenance": [],
      "authorship_tag": "ABX9TyOZCTo2reDUL88HjyDrjsxQ"
    },
    "kernelspec": {
      "name": "python3",
      "display_name": "Python 3"
    },
    "language_info": {
      "name": "python"
    }
  },
  "cells": [
    {
      "cell_type": "code",
      "execution_count": 1,
      "metadata": {
        "id": "q0YxkIB0VQ2G"
      },
      "outputs": [],
      "source": [
        "# import libraries\n",
        "import numpy as np\n",
        "import torch"
      ]
    },
    {
      "cell_type": "markdown",
      "source": [
        "**Using Numpy**"
      ],
      "metadata": {
        "id": "e-4XieSGVq10"
      }
    },
    {
      "cell_type": "code",
      "source": [
        "# create vector\n",
        "nv = np.array([[1,2,3,4]])\n",
        "print(nv), print(' ')\n",
        "\n",
        "# transpose it\n",
        "print(nv.T), print(' ')\n",
        "\n",
        "# transpose the transpose!\n",
        "nvT = nv.T\n",
        "print(nvT.T)\n"
      ],
      "metadata": {
        "colab": {
          "base_uri": "https://localhost:8080/"
        },
        "id": "W1QGZZcjVvcM",
        "outputId": "f5ce3854-c694-445d-b257-2036dbf577f9"
      },
      "execution_count": 4,
      "outputs": [
        {
          "output_type": "stream",
          "name": "stdout",
          "text": [
            "[[1 2 3 4]]\n",
            " \n",
            "[[1]\n",
            " [2]\n",
            " [3]\n",
            " [4]]\n",
            " \n",
            "[[1 2 3 4]]\n"
          ]
        }
      ]
    },
    {
      "cell_type": "markdown",
      "source": [
        "**Transpose Matrix**"
      ],
      "metadata": {
        "id": "jRN-Dj9QW49E"
      }
    },
    {
      "cell_type": "code",
      "source": [
        "# repeat for matrix\n",
        "nM = np.array([ [1,2,3,4], [5,6,7,8,] ])\n",
        "print(nM), print(' ')\n",
        "\n",
        "# transpose it\n",
        "print(nM.T), print(' ')\n",
        "\n",
        "# transpose the transpose\n",
        "nMT = nM.T\n",
        "print(nMT.T)"
      ],
      "metadata": {
        "colab": {
          "base_uri": "https://localhost:8080/"
        },
        "id": "YqBioSnsW8vs",
        "outputId": "0e76afa8-2162-4c60-9c45-a076960fba26"
      },
      "execution_count": 7,
      "outputs": [
        {
          "output_type": "stream",
          "name": "stdout",
          "text": [
            "[[1 2 3 4]\n",
            " [5 6 7 8]]\n",
            " \n",
            "[[1 5]\n",
            " [2 6]\n",
            " [3 7]\n",
            " [4 8]]\n",
            " \n",
            "[[1 2 3 4]\n",
            " [5 6 7 8]]\n"
          ]
        }
      ]
    },
    {
      "cell_type": "markdown",
      "source": [
        "**USING PYTORCH**"
      ],
      "metadata": {
        "id": "G8b1t4SAXv0T"
      }
    },
    {
      "cell_type": "code",
      "source": [
        "# create vector\n",
        "tv = torch.tensor([ [1,2,3,4] ])\n",
        "print(tv), print(' ')\n",
        "\n",
        "# transpose it\n",
        "print(tv.T), print(' ')\n",
        "\n",
        "# transpose the transpose\n",
        "tvT = tv.T\n",
        "print(tvT.T), print(' ')\n",
        "\n"
      ],
      "metadata": {
        "colab": {
          "base_uri": "https://localhost:8080/"
        },
        "id": "aL5Uo9ffXy2D",
        "outputId": "6c4b1514-bddb-46d1-92e9-b292f645bb35"
      },
      "execution_count": 9,
      "outputs": [
        {
          "output_type": "stream",
          "name": "stdout",
          "text": [
            "tensor([[1, 2, 3, 4]])\n",
            " \n",
            "tensor([[1],\n",
            "        [2],\n",
            "        [3],\n",
            "        [4]])\n",
            " \n",
            "tensor([[1, 2, 3, 4]])\n",
            " \n"
          ]
        },
        {
          "output_type": "execute_result",
          "data": {
            "text/plain": [
              "(None, None)"
            ]
          },
          "metadata": {},
          "execution_count": 9
        }
      ]
    },
    {
      "cell_type": "markdown",
      "source": [
        "**Transposing Matrix**"
      ],
      "metadata": {
        "id": "yJAjCxw2YZND"
      }
    },
    {
      "cell_type": "code",
      "source": [
        "# create matrix\n",
        "tM = torch.tensor([ [1,2,3,4], [5,6,7,8] ])\n",
        "print(tM), print(' ')\n",
        "\n",
        "# transpose it\n",
        "print(tM.T), print(' ')\n",
        "\n",
        "# transpose the transpose\n",
        "tMT = tM.T\n",
        "print(tMT.T)\n"
      ],
      "metadata": {
        "colab": {
          "base_uri": "https://localhost:8080/"
        },
        "id": "SRqSGc4uYb8i",
        "outputId": "b5df11c1-4451-46a1-d660-e460d5ba78c5"
      },
      "execution_count": 13,
      "outputs": [
        {
          "output_type": "stream",
          "name": "stdout",
          "text": [
            "tensor([[1, 2, 3, 4],\n",
            "        [5, 6, 7, 8]])\n",
            " \n",
            "tensor([[1, 5],\n",
            "        [2, 6],\n",
            "        [3, 7],\n",
            "        [4, 8]])\n",
            " \n",
            "tensor([[1, 2, 3, 4],\n",
            "        [5, 6, 7, 8]])\n"
          ]
        }
      ]
    }
  ]
}