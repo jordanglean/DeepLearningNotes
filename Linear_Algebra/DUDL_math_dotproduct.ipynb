{
  "nbformat": 4,
  "nbformat_minor": 0,
  "metadata": {
    "colab": {
      "provenance": [],
      "authorship_tag": "ABX9TyNY4FupAmIgV5z4MC1eFmbb"
    },
    "kernelspec": {
      "name": "python3",
      "display_name": "Python 3"
    },
    "language_info": {
      "name": "python"
    }
  },
  "cells": [
    {
      "cell_type": "code",
      "execution_count": 1,
      "metadata": {
        "id": "FCYdhN0qhQZf"
      },
      "outputs": [],
      "source": [
        "# import libraries\n",
        "import numpy as np\n",
        "import torch"
      ]
    },
    {
      "cell_type": "markdown",
      "source": [
        "**Numpy**"
      ],
      "metadata": {
        "id": "ZcVQ6EFGhlMV"
      }
    },
    {
      "cell_type": "code",
      "source": [
        "# create a vector\n",
        "nv1 = np.array([1,2,3,4])\n",
        "nv2 = np.array([0,1,0,-1])\n",
        "\n",
        "# dot product via function\n",
        "print(np.dot(nv1, nv2))\n",
        "\n",
        "# dot product via computation\n",
        "print(np.sum(nv1 * nv2))\n"
      ],
      "metadata": {
        "colab": {
          "base_uri": "https://localhost:8080/"
        },
        "id": "6IdPpoMVhnjP",
        "outputId": "367dcb97-8b2d-4ed4-f59c-27a13ccb07c0"
      },
      "execution_count": 4,
      "outputs": [
        {
          "output_type": "stream",
          "name": "stdout",
          "text": [
            "-2\n",
            "-2\n"
          ]
        }
      ]
    },
    {
      "cell_type": "markdown",
      "source": [
        "**Using pytorch**"
      ],
      "metadata": {
        "id": "wbLMIj1RiyCp"
      }
    },
    {
      "cell_type": "code",
      "source": [
        "# create vector\n",
        "tv1 = torch.tensor([1,2,3,4])\n",
        "tv2 = torch.tensor([0,1,0,-1])\n",
        "\n",
        "# dot product via function\n",
        "print(torch.dot(tv1, tv2))\n",
        "\n",
        "# dot product via computation\n",
        "print(torch.sum(tv1 * tv2))"
      ],
      "metadata": {
        "colab": {
          "base_uri": "https://localhost:8080/"
        },
        "id": "h6JlhzUoi1JG",
        "outputId": "081c8431-9cc3-4c39-ffb7-f0f7bf023340"
      },
      "execution_count": 6,
      "outputs": [
        {
          "output_type": "stream",
          "name": "stdout",
          "text": [
            "tensor(-2)\n",
            "tensor(-2)\n"
          ]
        }
      ]
    }
  ]
}